{
 "cells": [
  {
   "cell_type": "code",
   "execution_count": 1,
   "metadata": {},
   "outputs": [],
   "source": [
    "import os\n",
    "import cv2 as cv\n",
    "import numpy as np\n",
    "import pandas as pd"
   ]
  },
  {
   "cell_type": "code",
   "execution_count": 2,
   "metadata": {},
   "outputs": [],
   "source": [
    "def getcell(matrix, starti, startj):\n",
    "    ret = []\n",
    "    for i in range(4 * starti, 4 * starti + 10):\n",
    "        tmp = []\n",
    "        for j in range(4 * startj, 4 * startj + 10):\n",
    "            tmp.append(matrix[i][j])\n",
    "        ret.append(tmp)\n",
    "    return ret"
   ]
  },
  {
   "cell_type": "code",
   "execution_count": 3,
   "metadata": {},
   "outputs": [],
   "source": [
    "def HOF(magnitude, angle):\n",
    "    ret = []\n",
    "    unitdegree = np.pi / 4\n",
    "    for i in range(int((len(magnitude) - 10) / 4) + 1):\n",
    "        for j in range(int((len(magnitude[0]) - 10) / 4) + 1):\n",
    "            cellmagnitude = getcell(magnitude, i, j)\n",
    "            cellangle = getcell(angle, i, j)\n",
    "            mydict = {new_list: [] for new_list in range(8)}\n",
    "            for subi in range(len(cellmagnitude)):\n",
    "                for subj in range(len(cellmagnitude[0])):\n",
    "#                     if subi >= len(cellangle) or subj >= len(cellangle[0]):\n",
    "#                         print(subi, subj)\n",
    "#                         print(len(cellangle), len(cellangle[0]))\n",
    "                    num_rad = int(cellangle[subi][subj] // unitdegree)\n",
    "                    if num_rad == 8:\n",
    "                        num_rad = 7\n",
    "                    mydict[num_rad].append(cellmagnitude[subi][subj])\n",
    "            assert(len(mydict[1]) + len(mydict[2]) + len(mydict[3]) + len(mydict[4]) + len(mydict[5]) + len(mydict[6]) + len(mydict[7]) + len(mydict[0]) == 100)\n",
    "            ret.append(mydict)\n",
    "    return ret\n"
   ]
  },
  {
   "cell_type": "code",
   "execution_count": 4,
   "metadata": {},
   "outputs": [],
   "source": [
    "def normalize(mylist):\n",
    "    maxv = [0] * 8\n",
    "    for mydict in mylist:\n",
    "        for i in range(len(maxv)):\n",
    "            if mydict[i]:\n",
    "                maxv[i] = max(maxv[i], max(mydict[i]))\n",
    "    for mydict in mylist:\n",
    "        for i in range(len(maxv)):\n",
    "            for j in range(len(mydict[i])):\n",
    "                mydict[i][j] = mydict[i][j]/maxv[i]\n",
    "    print('maxv', maxv)\n",
    "    \n",
    "def vec_to_hist(myvec):\n",
    "    ret = [0] * 10\n",
    "    for ele in myvec:\n",
    "        index = int(ele // 0.1)\n",
    "        ret[index] += 1\n",
    "    return ret\n",
    "def to_hist(mylist):\n",
    "    ret = []\n",
    "    normalize(mylist)\n",
    "    for mydict in mylist:\n",
    "        tmpret = []\n",
    "        for key in mydict:\n",
    "            tmpret =tmpret + vec_to_hist(mydict[key])\n",
    "        ret.append(tmpret)\n",
    "        assert(sum(tmpret) == 100)\n",
    "    return ret"
   ]
  },
  {
   "cell_type": "code",
   "execution_count": null,
   "metadata": {},
   "outputs": [],
   "source": [
    "cwd = os.getcwd()\n",
    "subfolders = [dir for dir in os.listdir() if dir[:5] == \"Train\"]\n",
    "mylist = []\n",
    "for subfolder in sorted(subfolders):\n",
    "    path = cwd + '/' + subfolder\n",
    "    prev = None\n",
    "    for img in sorted(os.listdir(path)):\n",
    "        if img[-3:] != 'tif':\n",
    "            continue\n",
    "        frame = cv.imread(path + '/' + img, 0)\n",
    "        if prev is not None:\n",
    "            flow = cv.calcOpticalFlowFarneback(prev, frame, None, 0.5, 3, 15, 3, 5, 1.2, 0)\n",
    "            magnitude, angle = cv.cartToPolar(flow[..., 0], flow[..., 1])  # return angle in radians\n",
    "            mylist = mylist + HOF(magnitude, angle)\n",
    "            # flow_color = flow_vis.flow_to_color(flow, convert_to_bgr=False)\n",
    "            # cv.imshow('flow', flow_color)\n",
    "            # cv.waitKey(1)\n",
    "        # cv.imshow('image', frame)\n",
    "        # cv.waitKey(1)\n",
    "\n",
    "        prev = frame"
   ]
  },
  {
   "cell_type": "code",
   "execution_count": 7,
   "metadata": {},
   "outputs": [
    {
     "name": "stdout",
     "output_type": "stream",
     "text": [
      "maxv [7.4396048, 5.681708, 6.0392303, 6.0397787, 4.9539485, 4.7482467, 6.101315, 6.857308]\n"
     ]
    }
   ],
   "source": [
    "histogram = to_hist(mylist)"
   ]
  },
  {
   "cell_type": "code",
   "execution_count": 8,
   "metadata": {},
   "outputs": [],
   "source": [
    "histogram = np.array(histogram)\n",
    "vec_distance = []\n",
    "# for i in range(len(histogram)):\n",
    "#     for j in range(i+1, len(histogram)):\n",
    "#         vec_distance.append(np.linalg.norm(histogram[i]-histogram[j]))\n",
    "# mean_distance = 5 * sum(vec_distance)/len(vec_distance)\n",
    "for i in range(1, len(histogram)):\n",
    "    vec_distance.append(np.linalg.norm(histogram[i]-histogram[i-1]))"
   ]
  },
  {
   "cell_type": "code",
   "execution_count": null,
   "metadata": {},
   "outputs": [],
   "source": []
  },
  {
   "cell_type": "code",
   "execution_count": 9,
   "metadata": {},
   "outputs": [],
   "source": [
    "def construct_basic(h, epsilon, alpha):\n",
    "    cs = []\n",
    "    fs = []\n",
    "    pcs = []\n",
    "    for j in range(len(h)):\n",
    "        if j == 0:\n",
    "            cs.append(pd.Series(h[j]))\n",
    "            fs.append(1)\n",
    "            pcs.append(1)\n",
    "        else:\n",
    "            addvec = False\n",
    "            for ci in cs:\n",
    "                dist = np.linalg.norm(ci-h[j])\n",
    "                if dist > epsilon:\n",
    "                    addvec = True\n",
    "                    break\n",
    "            if addvec:\n",
    "                cs.append(h[j])\n",
    "                fs.append(1)\n",
    "                pcs.append(1/len(h))\n",
    "            else:\n",
    "                sum_inv_dist = 0\n",
    "                for ci in cs:\n",
    "                    sum_inv_dist += 1/np.linalg.norm(ci-h[j])\n",
    "                for i in range(len(cs)):\n",
    "                    wi = 1/sum_inv_dist * 1/np.linalg.norm(cs[i]-h[j])\n",
    "                    cs[i] = (fs[i]*cs[i]+wi*h[j])/(fs[i]+wi)\n",
    "                    fs[i] += wi\n",
    "                    pcs[i] = fs[i]/len(h)\n",
    "    assert(abs(sum(pcs) - 1)<0.01)\n",
    "    assert(abs(sum(fs)-len(h))<1)\n",
    "    def pruning():\n",
    "        deleted = set()\n",
    "        for i in range(len(cs)):\n",
    "            if i in deleted:\n",
    "                continue\n",
    "            for j in range(i+1, min(i+15000000,len(cs))):\n",
    "                if np.linalg.norm(cs[i]-cs[j]) < alpha*epsilon and pcs[j] < 0.05 and j not in deleted:\n",
    "                    deleted.add(j)\n",
    "                    cs[i] = [(cs[i][k]*fs[i]+cs[j][k]*fs[j])/(fs[i]+fs[j]) for k in range(len(cs[0]))]\n",
    "                    fs[i] += fs[j]\n",
    "                    pcs[i] += pcs[j]\n",
    "        ret = []\n",
    "        for i in range(len(cs)):\n",
    "            if i not in deleted:\n",
    "                ret.append(cs[i])\n",
    "        return ret\n",
    "    ret = []\n",
    "    for i in range(1):\n",
    "        ret = pruning()\n",
    "    return ret\n",
    "        \n",
    "                    "
   ]
  },
  {
   "cell_type": "code",
   "execution_count": 10,
   "metadata": {},
   "outputs": [],
   "source": [
    "mean_distance = 2*sum(vec_distance)/len(vec_distance)\n",
    "mean_distance\n",
    "\n",
    "basic_vec = construct_basic(histogram, mean_distance, 1)"
   ]
  },
  {
   "cell_type": "code",
   "execution_count": 30,
   "metadata": {},
   "outputs": [
    {
     "data": {
      "text/plain": [
       "36"
      ]
     },
     "execution_count": 30,
     "metadata": {},
     "output_type": "execute_result"
    }
   ],
   "source": [
    "anomaly = open(\"/home/dj1057/3001/UCSDped1/UCSDped1.txt\",\"r\") \n",
    "anomaly = anomaly.read()\n",
    "anomaly = anomaly.split('\\n')\n",
    "anomaly.pop()\n",
    "len(anomaly)"
   ]
  },
  {
   "cell_type": "code",
   "execution_count": 31,
   "metadata": {},
   "outputs": [
    {
     "name": "stdout",
     "output_type": "stream",
     "text": [
      "maxv [4.578386, 3.1334698, 2.0328202, 3.1095643, 2.248727, 1.3622833, 2.2275581, 4.723623]\n"
     ]
    }
   ],
   "source": [
    "folder = os.listdir('/home/dj1057/3001/UCSDped1/Test/Test001')\n",
    "testlist = []\n",
    "prev = None\n",
    "for img in sorted(folder):\n",
    "    if img[-3:] != 'tif':\n",
    "        continue\n",
    "    frame = cv.imread(path + '/' + img, 0)\n",
    "    if prev is not None:\n",
    "        flow = cv.calcOpticalFlowFarneback(prev, frame, None, 0.5, 3, 15, 3, 5, 1.2, 0)\n",
    "        magnitude, angle = cv.cartToPolar(flow[..., 0], flow[..., 1])  # return angle in radians\n",
    "        testlist = testlist + HOF(magnitude, angle)\n",
    "\n",
    "    prev = frame\n",
    "testhistogram = to_hist(testlist)"
   ]
  },
  {
   "cell_type": "code",
   "execution_count": 32,
   "metadata": {},
   "outputs": [
    {
     "data": {
      "text/plain": [
       "GaussianProcessRegressor(alpha=0.16000000000000003, copy_X_train=True,\n",
       "                         kernel=RBF(length_scale=1e+03), n_restarts_optimizer=0,\n",
       "                         normalize_y=False, optimizer='fmin_l_bfgs_b',\n",
       "                         random_state=None)"
      ]
     },
     "execution_count": 32,
     "metadata": {},
     "output_type": "execute_result"
    }
   ],
   "source": [
    "from sklearn.gaussian_process import GaussianProcessRegressor\n",
    "from sklearn.gaussian_process.kernels import ConstantKernel, RBF\n",
    "\n",
    "rbf = RBF(length_scale=10.0)\n",
    "gpr = GaussianProcessRegressor(kernel=rbf, alpha=0.4**2)\n",
    "\n",
    "\n",
    "gpr.fit(basic_vec, np.zeros(len(basic_vec)))"
   ]
  },
  {
   "cell_type": "code",
   "execution_count": 33,
   "metadata": {},
   "outputs": [],
   "source": [
    "mu = gpr.predict(testhistogram)\n"
   ]
  },
  {
   "cell_type": "code",
   "execution_count": null,
   "metadata": {},
   "outputs": [],
   "source": []
  },
  {
   "cell_type": "code",
   "execution_count": null,
   "metadata": {},
   "outputs": [],
   "source": []
  }
 ],
 "metadata": {
  "kernelspec": {
   "display_name": "Python 3",
   "language": "python",
   "name": "python3"
  },
  "language_info": {
   "codemirror_mode": {
    "name": "ipython",
    "version": 3
   },
   "file_extension": ".py",
   "mimetype": "text/x-python",
   "name": "python",
   "nbconvert_exporter": "python",
   "pygments_lexer": "ipython3",
   "version": "3.8.0"
  }
 },
 "nbformat": 4,
 "nbformat_minor": 2
}
